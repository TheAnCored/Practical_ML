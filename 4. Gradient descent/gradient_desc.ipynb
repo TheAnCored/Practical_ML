{
 "cells": [
  {
   "cell_type": "code",
   "execution_count": 5,
   "metadata": {},
   "outputs": [],
   "source": [
    "def grad_f(x: float):\n",
    "    return 4*x**3 - 10"
   ]
  },
  {
   "cell_type": "code",
   "execution_count": 6,
   "metadata": {},
   "outputs": [],
   "source": [
    "def gradient_descent(x_start: float, learning_rate: float, epsilon: float, num_iterations: int):\n",
    "    x_curr = x_start\n",
    "\n",
    "    for _ in range(num_iterations):\n",
    "        x_curr_next = x_curr - learning_rate*grad_f(x_curr)\n",
    "\n",
    "        if abs(x_curr_next - x_curr) < epsilon:\n",
    "            return x_curr_next\n",
    "        \n",
    "        if abs(grad_f(x_curr) - grad_f(x_curr_next)) < epsilon:\n",
    "            return x_curr_next\n",
    "        \n",
    "        x_curr = x_curr_next\n",
    "        \n",
    "    return x_curr"
   ]
  },
  {
   "cell_type": "code",
   "execution_count": 7,
   "metadata": {},
   "outputs": [
    {
     "name": "stdout",
     "output_type": "stream",
     "text": [
      "1.3544493420196504\n"
     ]
    }
   ],
   "source": [
    "print(gradient_descent(5, 0.01, 0.001, 10000))"
   ]
  }
 ],
 "metadata": {
  "kernelspec": {
   "display_name": "Python 3",
   "language": "python",
   "name": "python3"
  },
  "language_info": {
   "codemirror_mode": {
    "name": "ipython",
    "version": 3
   },
   "file_extension": ".py",
   "mimetype": "text/x-python",
   "name": "python",
   "nbconvert_exporter": "python",
   "pygments_lexer": "ipython3",
   "version": "3.13.1"
  }
 },
 "nbformat": 4,
 "nbformat_minor": 2
}
