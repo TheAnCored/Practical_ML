{
  "cells": [
    {
      "cell_type": "markdown",
      "metadata": {
        "id": "2rIeJvNmzPJy"
      },
      "source": [
        "# Градиентный спуск. Практика"
      ]
    },
    {
      "cell_type": "markdown",
      "metadata": {
        "id": "krXvdp0bzfJK"
      },
      "source": [
        "## Импорт библиотек, установка константных значений"
      ]
    },
    {
      "cell_type": "code",
      "execution_count": 2,
      "metadata": {
        "id": "X6AuQbUpziB8"
      },
      "outputs": [],
      "source": [
        "import pandas as pd\n",
        "import numpy as np\n",
        "import matplotlib.pyplot as plt\n",
        "\n",
        "from sklearn.datasets import make_regression, fetch_california_housing\n",
        "from sklearn.metrics import r2_score\n",
        "from sklearn.model_selection import train_test_split"
      ]
    },
    {
      "cell_type": "code",
      "execution_count": 3,
      "metadata": {
        "id": "47ZRimlw6TEp"
      },
      "outputs": [],
      "source": [
        "RANDOM_STATE = 123\n",
        "TRAIN_SIZE = 0.75"
      ]
    },
    {
      "cell_type": "code",
      "execution_count": 4,
      "metadata": {
        "id": "as1sEBKJt_Yb"
      },
      "outputs": [
        {
          "data": {
            "text/plain": [
              "RandomState(MT19937) at 0x2738F2BEC40"
            ]
          },
          "execution_count": 4,
          "metadata": {},
          "output_type": "execute_result"
        }
      ],
      "source": [
        "np.random.RandomState(RANDOM_STATE)"
      ]
    },
    {
      "cell_type": "code",
      "execution_count": 5,
      "metadata": {
        "id": "S6nTuMqGGqp2"
      },
      "outputs": [],
      "source": [
        "np.random.seed(RANDOM_STATE)\n",
        "\n",
        "X, y, _ = make_regression(n_samples=100000,              # число объектов\n",
        "                          n_features=10,                 # число признаков\n",
        "                          n_informative=8,               # число информативных признаков\n",
        "                          noise=100,                     # уровень шума в данных\n",
        "                          coef=True,                     # значение True используется при генерации данных\n",
        "                          random_state=RANDOM_STATE)\n",
        "\n",
        "X = pd.DataFrame(data=X, columns=np.arange(0, X.shape[1]))\n",
        "X[10] = X[6] + X[7] + np.random.random()*0.01"
      ]
    },
    {
      "cell_type": "code",
      "execution_count": 6,
      "metadata": {},
      "outputs": [],
      "source": [
        "Xtrain, Xtest, ytrain, ytest = train_test_split(X, y, test_size=0.3, random_state=RANDOM_STATE, shuffle=True)"
      ]
    },
    {
      "cell_type": "markdown",
      "metadata": {
        "id": "ii1alV-Mtheh"
      },
      "source": [
        "## Практика"
      ]
    },
    {
      "cell_type": "markdown",
      "metadata": {
        "id": "QvAfKSZkttN6"
      },
      "source": [
        "Реализуем метод градиентного спуска для обучения линейной регрессии."
      ]
    },
    {
      "cell_type": "markdown",
      "metadata": {
        "id": "oeueMbAitu84"
      },
      "source": [
        "### Задание 1 (1 балл)"
      ]
    },
    {
      "cell_type": "markdown",
      "metadata": {
        "id": "lm6_Ln0GoliG"
      },
      "source": [
        "\n",
        "Напишите функцию, вычисляющую значение весов в линейной регрессии по точной (аналитически найденной) формуле:\n",
        "\n",
        "$$w = (X^TX)^{-1}X^Ty$$\n",
        "\n",
        "Комментарий: для поиска решения в векторном виде сначала необходимо добавить единичный столбец к матрице $X$.\n",
        "Это сделано в коде."
      ]
    },
    {
      "cell_type": "code",
      "execution_count": 7,
      "metadata": {
        "id": "ZrVvpU9miOga"
      },
      "outputs": [],
      "source": [
        "def analytical_solution(X, y):\n",
        "    X = np.hstack((np.ones((X.shape[0], 1)), X))\n",
        "    return np.linalg.pinv(X.T @ X) @ X.T @ y "
      ]
    },
    {
      "cell_type": "markdown",
      "metadata": {
        "id": "1dzeu5eRtz6Z"
      },
      "source": [
        "### Задание 2 (1 балл)"
      ]
    },
    {
      "cell_type": "markdown",
      "metadata": {
        "id": "AMBKhU7Zhaev"
      },
      "source": [
        "Заполните функцию для предсказания модели по формуле\n",
        "$$a(X)=Xw$$"
      ]
    },
    {
      "cell_type": "code",
      "execution_count": 8,
      "metadata": {
        "id": "CI63O1eUhmyx"
      },
      "outputs": [],
      "source": [
        "def prediction(X, w):\n",
        "    X = np.hstack((np.ones((X.shape[0], 1)), X))\n",
        "    return X @ w"
      ]
    },
    {
      "cell_type": "markdown",
      "metadata": {
        "id": "OaPciXsEmznh"
      },
      "source": [
        "Продублируем функцию для вычисления значения MSE из урока"
      ]
    },
    {
      "cell_type": "code",
      "execution_count": 9,
      "metadata": {
        "id": "PqzBobT-m28D"
      },
      "outputs": [],
      "source": [
        "def compute_cost(X, y, w):\n",
        "    m = len(y)\n",
        "    cost = (1./m) * (np.linalg.norm(X @ w - y) ** 2)\n",
        "    return cost"
      ]
    },
    {
      "cell_type": "markdown",
      "metadata": {
        "id": "y592oWsDuJ9R"
      },
      "source": [
        "### Задание 3"
      ]
    },
    {
      "cell_type": "markdown",
      "metadata": {
        "id": "VFANmcnV5DWz"
      },
      "source": [
        "Скопируйте метод градиентного спуска из [урока](https://colab.research.google.com/drive/1Bos0LeQP9AAB-nrS0z8b-8ag5xRSEdty?usp=sharing) в этот ноутбук.\n"
      ]
    },
    {
      "cell_type": "code",
      "execution_count": 10,
      "metadata": {
        "id": "VB9oE8Sg1WG9"
      },
      "outputs": [],
      "source": [
        "def gradient_descent(X, y, learning_rate, iterations):\n",
        "    m, n = X.shape\n",
        "\n",
        "    X = np.hstack((np.ones((X.shape[0], 1)), X))\n",
        "    w = np.zeros(X.shape[1])\n",
        "\n",
        "    costs = np.zeros(iterations)\n",
        "\n",
        "    for i in range(iterations):\n",
        "        w -= learning_rate/m *(X.T @ ((X @ w) - y))\n",
        "        costs[i] = compute_cost(X, y, w)\n",
        "\n",
        "    return w, costs"
      ]
    },
    {
      "cell_type": "markdown",
      "metadata": {
        "id": "X_3A_UGWztbY"
      },
      "source": [
        "### Бонус для отважных"
      ]
    },
    {
      "cell_type": "markdown",
      "metadata": {
        "id": "GMujXdy75Lb2"
      },
      "source": [
        "Если чувствуете в себе силы, попробуйте написать SGD сами."
      ]
    },
    {
      "cell_type": "markdown",
      "metadata": {
        "id": "_shCsTQ1pVcU"
      },
      "source": [
        "Модифицируйте метод градиентного спуска из урока так, чтобы это теперь был метод стохастического градиентного спуска:\n",
        "\n",
        "* на каждой итерации выбирайте один случайный индекс `j` при помощи функции `random.randint`\n",
        "\n",
        "* градиент на каждой итерации градиентного спуска считайте не как сумму градиентов по всем объектам, а только по одному объекту с индексом `j`\n",
        "\n",
        "* на каждой итерации вычисляйте значение функции потерь и сохраняйте в список `cost_track`, который верните вместе с результатом работы функции"
      ]
    },
    {
      "cell_type": "code",
      "execution_count": 11,
      "metadata": {
        "id": "fTZWxz1zpb9R"
      },
      "outputs": [],
      "source": [
        "import random\n",
        "\n",
        "def stochastic_gradient_descent(X, y, learning_rate, iterations):\n",
        "    m,n = X.shape\n",
        "\n",
        "    X = np.hstack((np.ones((X.shape[0], 1)), X))\n",
        "    w = np.zeros(X.shape[1])\n",
        "\n",
        "    costs = np.zeros(iterations)\n",
        "\n",
        "    for i in range(iterations):\n",
        "        # выберите случайный индекс в диапазон от 0 до len(X)-1 включительно при помощи функции random.randint\n",
        "        j = np.random.randint(0, X.shape[0]-1)\n",
        "    \n",
        "        # обновите веса, используя сдвиг по градиенту только по объекту X[j] (делить на m в данном случае не нужно)\n",
        "        w -= learning_rate * (np.dot(X[j], w) - y[j]) * X[j]\n",
        "        costs[i] = compute_cost(X, y, w)\n",
        "\n",
        "    return w, costs"
      ]
    },
    {
      "cell_type": "markdown",
      "metadata": {
        "id": "WnRlUa9Npi9o"
      },
      "source": [
        "- Обучите линейную регрессию тремя методами (по точной формуле, с помощью GD и с помощью SGD) на данных для задачи регрессии ($X, y$). Для GD и самостоятельно написанного SGD используйте `learning_rate = 0.01, iterations = 10000`.\n",
        "\n",
        "*P.S. Если же вы используете не самописный SGD, а SGDRegressor из библиотеки sklearn.linear_model, то его объявляйте с гиперпараметрами по умолчанию, то есть в скобках при объявлении модели ничего не указывайте.*\n",
        "\n",
        "- С помощью каждого метода сделайте предсказание (на всех данных), вычислите качество предсказания r2 (`from sklearn.metrics import r2_score`). Для получения предсказания используйте функцию `predict`.\n"
      ]
    },
    {
      "cell_type": "markdown",
      "metadata": {},
      "source": [
        "##### **План**\n",
        "\n",
        "##### 1 - находим веса одним из методов\n",
        "\n",
        "##### 2 - применяем функцию **prediction** для получения предсказаний с найденными весами (либо predict в случае использования SGDRegressor из библиотеки sklearn)\n",
        "\n",
        "##### 3 - вычисляем значение метрики $R^2$"
      ]
    },
    {
      "cell_type": "code",
      "execution_count": 12,
      "metadata": {
        "id": "5cVilZVsmAys"
      },
      "outputs": [
        {
          "name": "stdout",
          "output_type": "stream",
          "text": [
            "CPU times: total: 188 ms\n",
            "Wall time: 13.6 ms\n"
          ]
        }
      ],
      "source": [
        "%time weights_an = analytical_solution(X,y)"
      ]
    },
    {
      "cell_type": "code",
      "execution_count": 13,
      "metadata": {},
      "outputs": [
        {
          "name": "stdout",
          "output_type": "stream",
          "text": [
            "CPU times: total: 17.2 s\n",
            "Wall time: 7.55 s\n"
          ]
        }
      ],
      "source": [
        "%time weights_GD, costsGD = gradient_descent(Xtrain, ytrain, 0.01, 10000)"
      ]
    },
    {
      "cell_type": "code",
      "execution_count": 14,
      "metadata": {},
      "outputs": [
        {
          "name": "stdout",
          "output_type": "stream",
          "text": [
            "CPU times: total: 6.95 s\n",
            "Wall time: 3.38 s\n"
          ]
        }
      ],
      "source": [
        "%time weights_SGD, costsSGD = stochastic_gradient_descent(Xtrain, ytrain, 0.01, 10000)"
      ]
    },
    {
      "cell_type": "code",
      "execution_count": 15,
      "metadata": {},
      "outputs": [],
      "source": [
        "Xtest = np.hstack((np.ones((Xtest.shape[0],1)), Xtest))"
      ]
    },
    {
      "cell_type": "markdown",
      "metadata": {
        "id": "ezvQOKaEkaLX"
      },
      "source": [
        "## Quiz\n",
        "\n",
        "Чему равно значение метрики $R^2$ для аналитического подхода?\n",
        "\n",
        "Ответ округлите до сотых."
      ]
    },
    {
      "cell_type": "code",
      "execution_count": 16,
      "metadata": {
        "id": "O_MDhoXs5tkd"
      },
      "outputs": [
        {
          "name": "stdout",
          "output_type": "stream",
          "text": [
            "0.755637128880569 0.7555725849792186 0.7284059441936381\n"
          ]
        }
      ],
      "source": [
        "# your code for GD here\n",
        "errorAN = r2_score(ytest, Xtest@weights_an)\n",
        "errorGD = r2_score(ytest, Xtest@weights_GD)\n",
        "errorSGD = r2_score(ytest, Xtest@weights_SGD)\n",
        "print(errorAN, errorGD, errorSGD)"
      ]
    },
    {
      "cell_type": "markdown",
      "metadata": {
        "id": "HaasnKmj2Eje"
      },
      "source": [
        "## Quiz\n",
        "\n",
        "Нарисуйте траекторию уменьшения ошибки при обучении градиентного спуска (это параметр `cost_track`, возвращаемый функцией).\n",
        "\n",
        "Чему приблизительно равен loss модели на последних итерациях?\n",
        "\n",
        "Выберите наиболее близкий к полученному вами ответ."
      ]
    },
    {
      "cell_type": "code",
      "execution_count": 17,
      "metadata": {
        "id": "CNTHJzS22QeT"
      },
      "outputs": [
        {
          "data": {
            "text/plain": [
              "[<matplotlib.lines.Line2D at 0x273c0e7d1d0>]"
            ]
          },
          "execution_count": 17,
          "metadata": {},
          "output_type": "execute_result"
        },
        {
          "data": {
            "image/png": "[encoded data removed]",
            "text/plain": [
              "<Figure size 640x480 with 1 Axes>"
            ]
          },
          "metadata": {},
          "output_type": "display_data"
        }
      ],
      "source": [
        "plt.plot(np.linspace(1,10000, num=10000), costsGD, c='green')\n",
        "plt.plot(np.linspace(1,10000, num=10000), costsSGD,  c='blue')"
      ]
    },
    {
      "cell_type": "markdown",
      "metadata": {
        "id": "hE7jBuyWkePj"
      },
      "source": [
        "## Quiz\n",
        "\n",
        "Измерьте время работы аналитического подхода, а также GD и SGD (используйте magic command [`%%time`](https://ipython.readthedocs.io/en/stable/interactive/magics.html)).\n",
        "\n",
        "Упорядочите результаты по возрастанию."
      ]
    },
    {
      "cell_type": "markdown",
      "metadata": {
        "id": "7Lne3c3I1swS"
      },
      "source": [
        "## Тестирование моделей на реальных данных\n",
        "\n",
        "В реальных задачах никто не пишет методы с нуля, если они уже реализованы в python. Самостоятельная реализация методов полезна для получения навыков программирования и более глубокого понимания алгоритмов.\n",
        "\n",
        "Давайте применим уже готовые методы из `sklearn` для решения задачи регрессии."
      ]
    },
    {
      "cell_type": "code",
      "execution_count": 18,
      "metadata": {
        "id": "qUhkRgYm1usp"
      },
      "outputs": [],
      "source": [
        "data = fetch_california_housing(as_frame=True)\n",
        "\n",
        "X1 = data.data\n",
        "y1 = data.target"
      ]
    },
    {
      "cell_type": "markdown",
      "metadata": {
        "id": "BlsxS_mb18A8"
      },
      "source": [
        "Разобъем данные на трейн и тест"
      ]
    },
    {
      "cell_type": "code",
      "execution_count": 19,
      "metadata": {
        "id": "tKKC-nWE13ek"
      },
      "outputs": [],
      "source": [
        "X_train, X_test, y_train, y_test = train_test_split(\n",
        "    X1,\n",
        "    y1,\n",
        "    train_size=TRAIN_SIZE,\n",
        "    random_state=RANDOM_STATE\n",
        "    )"
      ]
    },
    {
      "cell_type": "markdown",
      "metadata": {
        "id": "1nxiq6Uq2K47"
      },
      "source": [
        "Для решения этой задачи попробуйте следующие модели:\n",
        "\n",
        "* `LinearRegression` из `sklearn`\n",
        "* `SGDRegressor` из `sklearn`\n",
        "\n",
        "Обучите модели на тренировочных данных с параметрами по умолчанию и сделайте предсказание на тесте.\n",
        "Вычислите значение $R^2$"
      ]
    },
    {
      "cell_type": "code",
      "execution_count": 20,
      "metadata": {
        "id": "PdoNyLJy165x"
      },
      "outputs": [],
      "source": [
        "from sklearn.linear_model import LinearRegression\n",
        "from sklearn.linear_model import SGDRegressor\n",
        "\n",
        "lr = LinearRegression()\n",
        "sgd = SGDRegressor()\n",
        "\n",
        "lr.fit(X_train, y_train)\n",
        "sgd.fit(X_train, y_train)\n",
        "\n",
        "predLR = lr.predict(X_test)\n",
        "predSGD = sgd.predict(X_test)\n",
        "\n",
        "errorLR = r2_score(y_test, predLR)\n",
        "errorSGD = r2_score(y_test, predSGD)"
      ]
    },
    {
      "cell_type": "markdown",
      "metadata": {
        "id": "hq6lwN9ZmNgL"
      },
      "source": [
        "## Quiz\n",
        "\n",
        "Чему равно значение $R^2$ для модели LinearRegression на тестовых данных?\n",
        "\n",
        "Ответ округлите до сотых."
      ]
    },
    {
      "cell_type": "code",
      "execution_count": 21,
      "metadata": {
        "id": "atfZE2L0mNwz"
      },
      "outputs": [
        {
          "name": "stdout",
          "output_type": "stream",
          "text": [
            "0.6078944086580229 -4.018690190526216e+29\n"
          ]
        }
      ],
      "source": [
        "print(errorLR, errorSGD)"
      ]
    },
    {
      "cell_type": "markdown",
      "metadata": {
        "id": "BH56-5XHl9qg"
      },
      "source": [
        "## Quiz\n",
        "\n",
        "Какая модель с параметрами по умолчанию лучше справилась с предсказанием стоимости домов в Калифорнии?"
      ]
    },
    {
      "cell_type": "markdown",
      "metadata": {
        "id": "W2yCxAIL37e7"
      },
      "source": [
        "## Quiz\n",
        "\n",
        "Проинтерпретируйте качество метода SGDRegressor. Выберите наиболее подходящий вариант."
      ]
    }
  ],
  "metadata": {
    "colab": {
      "provenance": []
    },
    "kernelspec": {
      "display_name": "Python 3",
      "name": "python3"
    },
    "language_info": {
      "codemirror_mode": {
        "name": "ipython",
        "version": 3
      },
      "file_extension": ".py",
      "mimetype": "text/x-python",
      "name": "python",
      "nbconvert_exporter": "python",
      "pygments_lexer": "ipython3",
      "version": "3.13.1"
    }
  },
  "nbformat": 4,
  "nbformat_minor": 0
}
