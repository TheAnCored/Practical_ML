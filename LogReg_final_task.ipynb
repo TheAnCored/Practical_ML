{
  "cells": [
    {
      "cell_type": "markdown",
      "metadata": {
        "id": "FtRSA6FevXlO"
      },
      "source": [
        "# Логистическая регрессия. Практика"
      ]
    },
    {
      "cell_type": "markdown",
      "metadata": {
        "id": "Q7ytv2GMjpGZ"
      },
      "source": [
        "В этом задании вам предлагается спрогнозировать, купит клиент велосипед или нет, обучив логистическую регрессию."
      ]
    },
    {
      "cell_type": "code",
      "execution_count": 1,
      "metadata": {
        "id": "aPDB2wP8jndz"
      },
      "outputs": [],
      "source": [
        "# подключим библиотеки\n",
        "import matplotlib.pyplot as plt\n",
        "import numpy as np\n",
        "import pandas as pd\n",
        "\n",
        "import warnings\n",
        "warnings.filterwarnings(\"ignore\")"
      ]
    },
    {
      "cell_type": "code",
      "execution_count": 2,
      "metadata": {
        "id": "7Zw7RmtAjn8O"
      },
      "outputs": [],
      "source": [
        "# считаем данные\n",
        "data = pd.read_csv('https://raw.githubusercontent.com/evgpat/edu_stepik_practical_ml/main/datasets/bike_buyers_clean.csv')"
      ]
    },
    {
      "cell_type": "code",
      "execution_count": 3,
      "metadata": {
        "id": "3QbRGWqJjxOv"
      },
      "outputs": [
        {
          "data": {
            "text/html": [
              "<div>\n",
              "<style scoped>\n",
              "    .dataframe tbody tr th:only-of-type {\n",
              "        vertical-align: middle;\n",
              "    }\n",
              "\n",
              "    .dataframe tbody tr th {\n",
              "        vertical-align: top;\n",
              "    }\n",
              "\n",
              "    .dataframe thead th {\n",
              "        text-align: right;\n",
              "    }\n",
              "</style>\n",
              "<table border=\"1\" class=\"dataframe\">\n",
              "  <thead>\n",
              "    <tr style=\"text-align: right;\">\n",
              "      <th></th>\n",
              "      <th>ID</th>\n",
              "      <th>Marital Status</th>\n",
              "      <th>Gender</th>\n",
              "      <th>Income</th>\n",
              "      <th>Children</th>\n",
              "      <th>Education</th>\n",
              "      <th>Occupation</th>\n",
              "      <th>Home Owner</th>\n",
              "      <th>Cars</th>\n",
              "      <th>Commute Distance</th>\n",
              "      <th>Region</th>\n",
              "      <th>Age</th>\n",
              "      <th>Purchased Bike</th>\n",
              "    </tr>\n",
              "  </thead>\n",
              "  <tbody>\n",
              "    <tr>\n",
              "      <th>0</th>\n",
              "      <td>12496</td>\n",
              "      <td>Married</td>\n",
              "      <td>Female</td>\n",
              "      <td>40000</td>\n",
              "      <td>1</td>\n",
              "      <td>Bachelors</td>\n",
              "      <td>Skilled Manual</td>\n",
              "      <td>Yes</td>\n",
              "      <td>0</td>\n",
              "      <td>0-1 Miles</td>\n",
              "      <td>Europe</td>\n",
              "      <td>42</td>\n",
              "      <td>No</td>\n",
              "    </tr>\n",
              "    <tr>\n",
              "      <th>1</th>\n",
              "      <td>24107</td>\n",
              "      <td>Married</td>\n",
              "      <td>Male</td>\n",
              "      <td>30000</td>\n",
              "      <td>3</td>\n",
              "      <td>Partial College</td>\n",
              "      <td>Clerical</td>\n",
              "      <td>Yes</td>\n",
              "      <td>1</td>\n",
              "      <td>0-1 Miles</td>\n",
              "      <td>Europe</td>\n",
              "      <td>43</td>\n",
              "      <td>No</td>\n",
              "    </tr>\n",
              "    <tr>\n",
              "      <th>2</th>\n",
              "      <td>14177</td>\n",
              "      <td>Married</td>\n",
              "      <td>Male</td>\n",
              "      <td>80000</td>\n",
              "      <td>5</td>\n",
              "      <td>Partial College</td>\n",
              "      <td>Professional</td>\n",
              "      <td>No</td>\n",
              "      <td>2</td>\n",
              "      <td>2-5 Miles</td>\n",
              "      <td>Europe</td>\n",
              "      <td>60</td>\n",
              "      <td>No</td>\n",
              "    </tr>\n",
              "    <tr>\n",
              "      <th>3</th>\n",
              "      <td>24381</td>\n",
              "      <td>Single</td>\n",
              "      <td>Male</td>\n",
              "      <td>70000</td>\n",
              "      <td>0</td>\n",
              "      <td>Bachelors</td>\n",
              "      <td>Professional</td>\n",
              "      <td>Yes</td>\n",
              "      <td>1</td>\n",
              "      <td>5-10 Miles</td>\n",
              "      <td>Pacific</td>\n",
              "      <td>41</td>\n",
              "      <td>Yes</td>\n",
              "    </tr>\n",
              "    <tr>\n",
              "      <th>4</th>\n",
              "      <td>25597</td>\n",
              "      <td>Single</td>\n",
              "      <td>Male</td>\n",
              "      <td>30000</td>\n",
              "      <td>0</td>\n",
              "      <td>Bachelors</td>\n",
              "      <td>Clerical</td>\n",
              "      <td>No</td>\n",
              "      <td>0</td>\n",
              "      <td>0-1 Miles</td>\n",
              "      <td>Europe</td>\n",
              "      <td>36</td>\n",
              "      <td>Yes</td>\n",
              "    </tr>\n",
              "  </tbody>\n",
              "</table>\n",
              "</div>"
            ],
            "text/plain": [
              "      ID Marital Status  Gender  Income  Children        Education  \\\n",
              "0  12496        Married  Female   40000         1        Bachelors   \n",
              "1  24107        Married    Male   30000         3  Partial College   \n",
              "2  14177        Married    Male   80000         5  Partial College   \n",
              "3  24381         Single    Male   70000         0        Bachelors   \n",
              "4  25597         Single    Male   30000         0        Bachelors   \n",
              "\n",
              "       Occupation Home Owner  Cars Commute Distance   Region  Age  \\\n",
              "0  Skilled Manual        Yes     0        0-1 Miles   Europe   42   \n",
              "1        Clerical        Yes     1        0-1 Miles   Europe   43   \n",
              "2    Professional         No     2        2-5 Miles   Europe   60   \n",
              "3    Professional        Yes     1       5-10 Miles  Pacific   41   \n",
              "4        Clerical         No     0        0-1 Miles   Europe   36   \n",
              "\n",
              "  Purchased Bike  \n",
              "0             No  \n",
              "1             No  \n",
              "2             No  \n",
              "3            Yes  \n",
              "4            Yes  "
            ]
          },
          "execution_count": 3,
          "metadata": {},
          "output_type": "execute_result"
        }
      ],
      "source": [
        "# выводим первые 5 строк датафрейма\n",
        "data.head(5)"
      ]
    },
    {
      "cell_type": "code",
      "execution_count": 4,
      "metadata": {
        "id": "UZz-ce-QnzaU"
      },
      "outputs": [
        {
          "data": {
            "text/plain": [
              "(1000, 13)"
            ]
          },
          "execution_count": 4,
          "metadata": {},
          "output_type": "execute_result"
        }
      ],
      "source": [
        "# смотрим размер датафрейма\n",
        "data.shape"
      ]
    },
    {
      "cell_type": "markdown",
      "metadata": {
        "id": "HbnaQJxw2mHQ"
      },
      "source": [
        "Выведите статистики по категориальным признакам, чтобы посмотреть, сколько категорий в каждом категориальном (нечисловом) признаке.\n",
        "\n",
        "Для этого можно воспользоваться методом `describe` из библиотеки pandas со значением параметра `include = 'object'`."
      ]
    },
    {
      "cell_type": "markdown",
      "metadata": {
        "id": "j1hhZ95gGt-w"
      },
      "source": [
        "**Вопрос:** в каком категориальном признаке встречаются три различных значения?"
      ]
    },
    {
      "cell_type": "code",
      "execution_count": 5,
      "metadata": {
        "id": "_yYv_Ma18A9A"
      },
      "outputs": [
        {
          "data": {
            "text/html": [
              "<div>\n",
              "<style scoped>\n",
              "    .dataframe tbody tr th:only-of-type {\n",
              "        vertical-align: middle;\n",
              "    }\n",
              "\n",
              "    .dataframe tbody tr th {\n",
              "        vertical-align: top;\n",
              "    }\n",
              "\n",
              "    .dataframe thead th {\n",
              "        text-align: right;\n",
              "    }\n",
              "</style>\n",
              "<table border=\"1\" class=\"dataframe\">\n",
              "  <thead>\n",
              "    <tr style=\"text-align: right;\">\n",
              "      <th></th>\n",
              "      <th>Marital Status</th>\n",
              "      <th>Gender</th>\n",
              "      <th>Education</th>\n",
              "      <th>Occupation</th>\n",
              "      <th>Home Owner</th>\n",
              "      <th>Commute Distance</th>\n",
              "      <th>Region</th>\n",
              "      <th>Purchased Bike</th>\n",
              "    </tr>\n",
              "  </thead>\n",
              "  <tbody>\n",
              "    <tr>\n",
              "      <th>count</th>\n",
              "      <td>1000</td>\n",
              "      <td>1000</td>\n",
              "      <td>1000</td>\n",
              "      <td>1000</td>\n",
              "      <td>1000</td>\n",
              "      <td>1000</td>\n",
              "      <td>1000</td>\n",
              "      <td>1000</td>\n",
              "    </tr>\n",
              "    <tr>\n",
              "      <th>unique</th>\n",
              "      <td>2</td>\n",
              "      <td>2</td>\n",
              "      <td>5</td>\n",
              "      <td>5</td>\n",
              "      <td>2</td>\n",
              "      <td>5</td>\n",
              "      <td>3</td>\n",
              "      <td>2</td>\n",
              "    </tr>\n",
              "    <tr>\n",
              "      <th>top</th>\n",
              "      <td>Married</td>\n",
              "      <td>Male</td>\n",
              "      <td>Bachelors</td>\n",
              "      <td>Professional</td>\n",
              "      <td>Yes</td>\n",
              "      <td>0-1 Miles</td>\n",
              "      <td>North America</td>\n",
              "      <td>No</td>\n",
              "    </tr>\n",
              "    <tr>\n",
              "      <th>freq</th>\n",
              "      <td>539</td>\n",
              "      <td>509</td>\n",
              "      <td>306</td>\n",
              "      <td>276</td>\n",
              "      <td>685</td>\n",
              "      <td>366</td>\n",
              "      <td>508</td>\n",
              "      <td>519</td>\n",
              "    </tr>\n",
              "  </tbody>\n",
              "</table>\n",
              "</div>"
            ],
            "text/plain": [
              "       Marital Status Gender  Education    Occupation Home Owner  \\\n",
              "count            1000   1000       1000          1000       1000   \n",
              "unique              2      2          5             5          2   \n",
              "top           Married   Male  Bachelors  Professional        Yes   \n",
              "freq              539    509        306           276        685   \n",
              "\n",
              "       Commute Distance         Region Purchased Bike  \n",
              "count              1000           1000           1000  \n",
              "unique                5              3              2  \n",
              "top           0-1 Miles  North America             No  \n",
              "freq                366            508            519  "
            ]
          },
          "execution_count": 5,
          "metadata": {},
          "output_type": "execute_result"
        }
      ],
      "source": [
        "data.describe(include='object') # в region чаще всего встречаются три значения"
      ]
    },
    {
      "cell_type": "markdown",
      "metadata": {
        "id": "R2MMCJkr8U5U"
      },
      "source": [
        "Закодируйте все категориальные столбцы с двумя категориями следующим образом:  \n",
        "самая часто встречающаяся категория превращается в 1, другая в 0."
      ]
    },
    {
      "cell_type": "code",
      "execution_count": 6,
      "metadata": {
        "id": "QzIOrBnA8eJa"
      },
      "outputs": [
        {
          "data": {
            "text/html": [
              "<div>\n",
              "<style scoped>\n",
              "    .dataframe tbody tr th:only-of-type {\n",
              "        vertical-align: middle;\n",
              "    }\n",
              "\n",
              "    .dataframe tbody tr th {\n",
              "        vertical-align: top;\n",
              "    }\n",
              "\n",
              "    .dataframe thead th {\n",
              "        text-align: right;\n",
              "    }\n",
              "</style>\n",
              "<table border=\"1\" class=\"dataframe\">\n",
              "  <thead>\n",
              "    <tr style=\"text-align: right;\">\n",
              "      <th></th>\n",
              "      <th>ID</th>\n",
              "      <th>Marital Status</th>\n",
              "      <th>Gender</th>\n",
              "      <th>Income</th>\n",
              "      <th>Children</th>\n",
              "      <th>Education</th>\n",
              "      <th>Occupation</th>\n",
              "      <th>Home Owner</th>\n",
              "      <th>Cars</th>\n",
              "      <th>Commute Distance</th>\n",
              "      <th>Region</th>\n",
              "      <th>Age</th>\n",
              "      <th>Purchased Bike</th>\n",
              "    </tr>\n",
              "  </thead>\n",
              "  <tbody>\n",
              "    <tr>\n",
              "      <th>0</th>\n",
              "      <td>12496</td>\n",
              "      <td>1</td>\n",
              "      <td>0</td>\n",
              "      <td>40000</td>\n",
              "      <td>1</td>\n",
              "      <td>Bachelors</td>\n",
              "      <td>Skilled Manual</td>\n",
              "      <td>1</td>\n",
              "      <td>0</td>\n",
              "      <td>0-1 Miles</td>\n",
              "      <td>Europe</td>\n",
              "      <td>42</td>\n",
              "      <td>1</td>\n",
              "    </tr>\n",
              "    <tr>\n",
              "      <th>1</th>\n",
              "      <td>24107</td>\n",
              "      <td>1</td>\n",
              "      <td>1</td>\n",
              "      <td>30000</td>\n",
              "      <td>3</td>\n",
              "      <td>Partial College</td>\n",
              "      <td>Clerical</td>\n",
              "      <td>1</td>\n",
              "      <td>1</td>\n",
              "      <td>0-1 Miles</td>\n",
              "      <td>Europe</td>\n",
              "      <td>43</td>\n",
              "      <td>1</td>\n",
              "    </tr>\n",
              "    <tr>\n",
              "      <th>2</th>\n",
              "      <td>14177</td>\n",
              "      <td>1</td>\n",
              "      <td>1</td>\n",
              "      <td>80000</td>\n",
              "      <td>5</td>\n",
              "      <td>Partial College</td>\n",
              "      <td>Professional</td>\n",
              "      <td>0</td>\n",
              "      <td>2</td>\n",
              "      <td>2-5 Miles</td>\n",
              "      <td>Europe</td>\n",
              "      <td>60</td>\n",
              "      <td>1</td>\n",
              "    </tr>\n",
              "    <tr>\n",
              "      <th>3</th>\n",
              "      <td>24381</td>\n",
              "      <td>0</td>\n",
              "      <td>1</td>\n",
              "      <td>70000</td>\n",
              "      <td>0</td>\n",
              "      <td>Bachelors</td>\n",
              "      <td>Professional</td>\n",
              "      <td>1</td>\n",
              "      <td>1</td>\n",
              "      <td>5-10 Miles</td>\n",
              "      <td>Pacific</td>\n",
              "      <td>41</td>\n",
              "      <td>0</td>\n",
              "    </tr>\n",
              "    <tr>\n",
              "      <th>4</th>\n",
              "      <td>25597</td>\n",
              "      <td>0</td>\n",
              "      <td>1</td>\n",
              "      <td>30000</td>\n",
              "      <td>0</td>\n",
              "      <td>Bachelors</td>\n",
              "      <td>Clerical</td>\n",
              "      <td>0</td>\n",
              "      <td>0</td>\n",
              "      <td>0-1 Miles</td>\n",
              "      <td>Europe</td>\n",
              "      <td>36</td>\n",
              "      <td>0</td>\n",
              "    </tr>\n",
              "  </tbody>\n",
              "</table>\n",
              "</div>"
            ],
            "text/plain": [
              "      ID  Marital Status  Gender  Income  Children        Education  \\\n",
              "0  12496               1       0   40000         1        Bachelors   \n",
              "1  24107               1       1   30000         3  Partial College   \n",
              "2  14177               1       1   80000         5  Partial College   \n",
              "3  24381               0       1   70000         0        Bachelors   \n",
              "4  25597               0       1   30000         0        Bachelors   \n",
              "\n",
              "       Occupation  Home Owner  Cars Commute Distance   Region  Age  \\\n",
              "0  Skilled Manual           1     0        0-1 Miles   Europe   42   \n",
              "1        Clerical           1     1        0-1 Miles   Europe   43   \n",
              "2    Professional           0     2        2-5 Miles   Europe   60   \n",
              "3    Professional           1     1       5-10 Miles  Pacific   41   \n",
              "4        Clerical           0     0        0-1 Miles   Europe   36   \n",
              "\n",
              "   Purchased Bike  \n",
              "0               1  \n",
              "1               1  \n",
              "2               1  \n",
              "3               0  \n",
              "4               0  "
            ]
          },
          "execution_count": 6,
          "metadata": {},
          "output_type": "execute_result"
        }
      ],
      "source": [
        "def encode_column(column):\n",
        "    most_frequent = column.mode()[0]\n",
        "    return column.apply(lambda x: 1 if x == most_frequent else 0)\n",
        "\n",
        "data = data.apply(lambda col: encode_column(col) if col.nunique() == 2 else col)\n",
        "\n",
        "data.head(5)"
      ]
    },
    {
      "cell_type": "markdown",
      "metadata": {
        "id": "qdDV_Cys9PAs"
      },
      "source": [
        "Удалите остальные категориальные столбцы.\n",
        "\n",
        "**Вопрос:** сколько категориальных столбцов вы удалили?"
      ]
    },
    {
      "cell_type": "code",
      "execution_count": 7,
      "metadata": {
        "id": "N2sYdyjw9R6I"
      },
      "outputs": [],
      "source": [
        "data = data.drop(['Education','Occupation', 'Commute Distance', 'Region', 'ID'], axis=1)"
      ]
    },
    {
      "cell_type": "markdown",
      "metadata": {
        "id": "0hjsUxpx9cAq"
      },
      "source": [
        "Удалите столбец `ID`, так как он по сути нечисловой."
      ]
    },
    {
      "cell_type": "markdown",
      "metadata": {
        "id": "4QjeoiTJ9j1u"
      },
      "source": [
        "Сформируйте матрицу объект-признак `X` и вектор `y` с целевой переменной.  \n",
        "Целевая переменная - это последний столбец, `Purchased Bike`."
      ]
    },
    {
      "cell_type": "code",
      "execution_count": 8,
      "metadata": {
        "id": "jYY7sZbu9_wM"
      },
      "outputs": [],
      "source": [
        "X = data.drop('Purchased Bike', axis=1)\n",
        "y = data['Purchased Bike']"
      ]
    },
    {
      "cell_type": "markdown",
      "metadata": {
        "id": "Cwxl-CUX-452"
      },
      "source": [
        "Разбейте данные на тренировочную и тестовую часть (`Xtrain`, `Xtest`, `ytrain`, `ytest`), в тест отправьте 30% данных.  \n",
        "Зафиксируйте `random_state = 42`."
      ]
    },
    {
      "cell_type": "code",
      "execution_count": 9,
      "metadata": {
        "id": "fquWQf8e--Zn"
      },
      "outputs": [],
      "source": [
        "from sklearn.model_selection import train_test_split\n",
        "\n",
        "Xtrain, Xtest, ytrain, ytest = train_test_split(X, y, shuffle=True, test_size=0.3, random_state=42)"
      ]
    },
    {
      "cell_type": "markdown",
      "metadata": {
        "id": "6-Ki4tjHG6pt"
      },
      "source": [
        "**Вопрос:** сколько объектов в матрице `Xtrain`?"
      ]
    },
    {
      "cell_type": "code",
      "execution_count": 10,
      "metadata": {
        "id": "XFIuu2b9G92Q"
      },
      "outputs": [
        {
          "data": {
            "text/plain": [
              "700"
            ]
          },
          "execution_count": 10,
          "metadata": {},
          "output_type": "execute_result"
        }
      ],
      "source": [
        "Xtrain.shape[0]"
      ]
    },
    {
      "cell_type": "markdown",
      "metadata": {
        "id": "ZBdAk3RM-FQ4"
      },
      "source": [
        "Почти всё готово для обучения модели!\n",
        "\n",
        "Осталось отмасштабировать матрицу `X`, так как линейные модели чувствительны к масштабу данных.\n",
        "\n",
        "*  Обучите на тренировочной матрице (`Xtrain`) `MinMaxScaler` из библиотеки `sklearn.preprocessing`\n",
        "*  Примените масштабирование и к `Xtrain`, и к `Xtest`\n",
        "*  Переведите полученные после масштабирования `np.array` обратно в pandas `dataframe`.\n",
        "\n",
        "Полученные масштабированные матрицы назовите, как и раньше, `Xtrain` и `Xtest`."
      ]
    },
    {
      "cell_type": "code",
      "execution_count": 11,
      "metadata": {
        "id": "sxwLdpAK-oJp"
      },
      "outputs": [],
      "source": [
        "from sklearn.preprocessing import MinMaxScaler\n",
        "\n",
        "minMaxScaler = MinMaxScaler()\n",
        "\n",
        "Xtrain = minMaxScaler.fit_transform(Xtrain)\n",
        "Xtest = minMaxScaler.transform(Xtest)"
      ]
    },
    {
      "cell_type": "markdown",
      "metadata": {
        "id": "9g3cyUKPqgqu"
      },
      "source": [
        "Теперь обучите логистическую регрессию на тренировочных данных"
      ]
    },
    {
      "cell_type": "code",
      "execution_count": 12,
      "metadata": {
        "id": "efySFKgej1_1"
      },
      "outputs": [
        {
          "data": {
            "text/html": [
              "<style>#sk-container-id-1 {\n",
              "  /* Definition of color scheme common for light and dark mode */\n",
              "  --sklearn-color-text: #000;\n",
              "  --sklearn-color-text-muted: #666;\n",
              "  --sklearn-color-line: gray;\n",
              "  /* Definition of color scheme for unfitted estimators */\n",
              "  --sklearn-color-unfitted-level-0: #fff5e6;\n",
              "  --sklearn-color-unfitted-level-1: #f6e4d2;\n",
              "  --sklearn-color-unfitted-level-2: #ffe0b3;\n",
              "  --sklearn-color-unfitted-level-3: chocolate;\n",
              "  /* Definition of color scheme for fitted estimators */\n",
              "  --sklearn-color-fitted-level-0: #f0f8ff;\n",
              "  --sklearn-color-fitted-level-1: #d4ebff;\n",
              "  --sklearn-color-fitted-level-2: #b3dbfd;\n",
              "  --sklearn-color-fitted-level-3: cornflowerblue;\n",
              "\n",
              "  /* Specific color for light theme */\n",
              "  --sklearn-color-text-on-default-background: var(--sg-text-color, var(--theme-code-foreground, var(--jp-content-font-color1, black)));\n",
              "  --sklearn-color-background: var(--sg-background-color, var(--theme-background, var(--jp-layout-color0, white)));\n",
              "  --sklearn-color-border-box: var(--sg-text-color, var(--theme-code-foreground, var(--jp-content-font-color1, black)));\n",
              "  --sklearn-color-icon: #696969;\n",
              "\n",
              "  @media (prefers-color-scheme: dark) {\n",
              "    /* Redefinition of color scheme for dark theme */\n",
              "    --sklearn-color-text-on-default-background: var(--sg-text-color, var(--theme-code-foreground, var(--jp-content-font-color1, white)));\n",
              "    --sklearn-color-background: var(--sg-background-color, var(--theme-background, var(--jp-layout-color0, #111)));\n",
              "    --sklearn-color-border-box: var(--sg-text-color, var(--theme-code-foreground, var(--jp-content-font-color1, white)));\n",
              "    --sklearn-color-icon: #878787;\n",
              "  }\n",
              "}\n",
              "\n",
              "#sk-container-id-1 {\n",
              "  color: var(--sklearn-color-text);\n",
              "}\n",
              "\n",
              "#sk-container-id-1 pre {\n",
              "  padding: 0;\n",
              "}\n",
              "\n",
              "#sk-container-id-1 input.sk-hidden--visually {\n",
              "  border: 0;\n",
              "  clip: rect(1px 1px 1px 1px);\n",
              "  clip: rect(1px, 1px, 1px, 1px);\n",
              "  height: 1px;\n",
              "  margin: -1px;\n",
              "  overflow: hidden;\n",
              "  padding: 0;\n",
              "  position: absolute;\n",
              "  width: 1px;\n",
              "}\n",
              "\n",
              "#sk-container-id-1 div.sk-dashed-wrapped {\n",
              "  border: 1px dashed var(--sklearn-color-line);\n",
              "  margin: 0 0.4em 0.5em 0.4em;\n",
              "  box-sizing: border-box;\n",
              "  padding-bottom: 0.4em;\n",
              "  background-color: var(--sklearn-color-background);\n",
              "}\n",
              "\n",
              "#sk-container-id-1 div.sk-container {\n",
              "  /* jupyter's `normalize.less` sets `[hidden] { display: none; }`\n",
              "     but bootstrap.min.css set `[hidden] { display: none !important; }`\n",
              "     so we also need the `!important` here to be able to override the\n",
              "     default hidden behavior on the sphinx rendered scikit-learn.org.\n",
              "     See: https://github.com/scikit-learn/scikit-learn/issues/21755 */\n",
              "  display: inline-block !important;\n",
              "  position: relative;\n",
              "}\n",
              "\n",
              "#sk-container-id-1 div.sk-text-repr-fallback {\n",
              "  display: none;\n",
              "}\n",
              "\n",
              "div.sk-parallel-item,\n",
              "div.sk-serial,\n",
              "div.sk-item {\n",
              "  /* draw centered vertical line to link estimators */\n",
              "  background-image: linear-gradient(var(--sklearn-color-text-on-default-background), var(--sklearn-color-text-on-default-background));\n",
              "  background-size: 2px 100%;\n",
              "  background-repeat: no-repeat;\n",
              "  background-position: center center;\n",
              "}\n",
              "\n",
              "/* Parallel-specific style estimator block */\n",
              "\n",
              "#sk-container-id-1 div.sk-parallel-item::after {\n",
              "  content: \"\";\n",
              "  width: 100%;\n",
              "  border-bottom: 2px solid var(--sklearn-color-text-on-default-background);\n",
              "  flex-grow: 1;\n",
              "}\n",
              "\n",
              "#sk-container-id-1 div.sk-parallel {\n",
              "  display: flex;\n",
              "  align-items: stretch;\n",
              "  justify-content: center;\n",
              "  background-color: var(--sklearn-color-background);\n",
              "  position: relative;\n",
              "}\n",
              "\n",
              "#sk-container-id-1 div.sk-parallel-item {\n",
              "  display: flex;\n",
              "  flex-direction: column;\n",
              "}\n",
              "\n",
              "#sk-container-id-1 div.sk-parallel-item:first-child::after {\n",
              "  align-self: flex-end;\n",
              "  width: 50%;\n",
              "}\n",
              "\n",
              "#sk-container-id-1 div.sk-parallel-item:last-child::after {\n",
              "  align-self: flex-start;\n",
              "  width: 50%;\n",
              "}\n",
              "\n",
              "#sk-container-id-1 div.sk-parallel-item:only-child::after {\n",
              "  width: 0;\n",
              "}\n",
              "\n",
              "/* Serial-specific style estimator block */\n",
              "\n",
              "#sk-container-id-1 div.sk-serial {\n",
              "  display: flex;\n",
              "  flex-direction: column;\n",
              "  align-items: center;\n",
              "  background-color: var(--sklearn-color-background);\n",
              "  padding-right: 1em;\n",
              "  padding-left: 1em;\n",
              "}\n",
              "\n",
              "\n",
              "/* Toggleable style: style used for estimator/Pipeline/ColumnTransformer box that is\n",
              "clickable and can be expanded/collapsed.\n",
              "- Pipeline and ColumnTransformer use this feature and define the default style\n",
              "- Estimators will overwrite some part of the style using the `sk-estimator` class\n",
              "*/\n",
              "\n",
              "/* Pipeline and ColumnTransformer style (default) */\n",
              "\n",
              "#sk-container-id-1 div.sk-toggleable {\n",
              "  /* Default theme specific background. It is overwritten whether we have a\n",
              "  specific estimator or a Pipeline/ColumnTransformer */\n",
              "  background-color: var(--sklearn-color-background);\n",
              "}\n",
              "\n",
              "/* Toggleable label */\n",
              "#sk-container-id-1 label.sk-toggleable__label {\n",
              "  cursor: pointer;\n",
              "  display: flex;\n",
              "  width: 100%;\n",
              "  margin-bottom: 0;\n",
              "  padding: 0.5em;\n",
              "  box-sizing: border-box;\n",
              "  text-align: center;\n",
              "  align-items: start;\n",
              "  justify-content: space-between;\n",
              "  gap: 0.5em;\n",
              "}\n",
              "\n",
              "#sk-container-id-1 label.sk-toggleable__label .caption {\n",
              "  font-size: 0.6rem;\n",
              "  font-weight: lighter;\n",
              "  color: var(--sklearn-color-text-muted);\n",
              "}\n",
              "\n",
              "#sk-container-id-1 label.sk-toggleable__label-arrow:before {\n",
              "  /* Arrow on the left of the label */\n",
              "  content: \"▸\";\n",
              "  float: left;\n",
              "  margin-right: 0.25em;\n",
              "  color: var(--sklearn-color-icon);\n",
              "}\n",
              "\n",
              "#sk-container-id-1 label.sk-toggleable__label-arrow:hover:before {\n",
              "  color: var(--sklearn-color-text);\n",
              "}\n",
              "\n",
              "/* Toggleable content - dropdown */\n",
              "\n",
              "#sk-container-id-1 div.sk-toggleable__content {\n",
              "  max-height: 0;\n",
              "  max-width: 0;\n",
              "  overflow: hidden;\n",
              "  text-align: left;\n",
              "  /* unfitted */\n",
              "  background-color: var(--sklearn-color-unfitted-level-0);\n",
              "}\n",
              "\n",
              "#sk-container-id-1 div.sk-toggleable__content.fitted {\n",
              "  /* fitted */\n",
              "  background-color: var(--sklearn-color-fitted-level-0);\n",
              "}\n",
              "\n",
              "#sk-container-id-1 div.sk-toggleable__content pre {\n",
              "  margin: 0.2em;\n",
              "  border-radius: 0.25em;\n",
              "  color: var(--sklearn-color-text);\n",
              "  /* unfitted */\n",
              "  background-color: var(--sklearn-color-unfitted-level-0);\n",
              "}\n",
              "\n",
              "#sk-container-id-1 div.sk-toggleable__content.fitted pre {\n",
              "  /* unfitted */\n",
              "  background-color: var(--sklearn-color-fitted-level-0);\n",
              "}\n",
              "\n",
              "#sk-container-id-1 input.sk-toggleable__control:checked~div.sk-toggleable__content {\n",
              "  /* Expand drop-down */\n",
              "  max-height: 200px;\n",
              "  max-width: 100%;\n",
              "  overflow: auto;\n",
              "}\n",
              "\n",
              "#sk-container-id-1 input.sk-toggleable__control:checked~label.sk-toggleable__label-arrow:before {\n",
              "  content: \"▾\";\n",
              "}\n",
              "\n",
              "/* Pipeline/ColumnTransformer-specific style */\n",
              "\n",
              "#sk-container-id-1 div.sk-label input.sk-toggleable__control:checked~label.sk-toggleable__label {\n",
              "  color: var(--sklearn-color-text);\n",
              "  background-color: var(--sklearn-color-unfitted-level-2);\n",
              "}\n",
              "\n",
              "#sk-container-id-1 div.sk-label.fitted input.sk-toggleable__control:checked~label.sk-toggleable__label {\n",
              "  background-color: var(--sklearn-color-fitted-level-2);\n",
              "}\n",
              "\n",
              "/* Estimator-specific style */\n",
              "\n",
              "/* Colorize estimator box */\n",
              "#sk-container-id-1 div.sk-estimator input.sk-toggleable__control:checked~label.sk-toggleable__label {\n",
              "  /* unfitted */\n",
              "  background-color: var(--sklearn-color-unfitted-level-2);\n",
              "}\n",
              "\n",
              "#sk-container-id-1 div.sk-estimator.fitted input.sk-toggleable__control:checked~label.sk-toggleable__label {\n",
              "  /* fitted */\n",
              "  background-color: var(--sklearn-color-fitted-level-2);\n",
              "}\n",
              "\n",
              "#sk-container-id-1 div.sk-label label.sk-toggleable__label,\n",
              "#sk-container-id-1 div.sk-label label {\n",
              "  /* The background is the default theme color */\n",
              "  color: var(--sklearn-color-text-on-default-background);\n",
              "}\n",
              "\n",
              "/* On hover, darken the color of the background */\n",
              "#sk-container-id-1 div.sk-label:hover label.sk-toggleable__label {\n",
              "  color: var(--sklearn-color-text);\n",
              "  background-color: var(--sklearn-color-unfitted-level-2);\n",
              "}\n",
              "\n",
              "/* Label box, darken color on hover, fitted */\n",
              "#sk-container-id-1 div.sk-label.fitted:hover label.sk-toggleable__label.fitted {\n",
              "  color: var(--sklearn-color-text);\n",
              "  background-color: var(--sklearn-color-fitted-level-2);\n",
              "}\n",
              "\n",
              "/* Estimator label */\n",
              "\n",
              "#sk-container-id-1 div.sk-label label {\n",
              "  font-family: monospace;\n",
              "  font-weight: bold;\n",
              "  display: inline-block;\n",
              "  line-height: 1.2em;\n",
              "}\n",
              "\n",
              "#sk-container-id-1 div.sk-label-container {\n",
              "  text-align: center;\n",
              "}\n",
              "\n",
              "/* Estimator-specific */\n",
              "#sk-container-id-1 div.sk-estimator {\n",
              "  font-family: monospace;\n",
              "  border: 1px dotted var(--sklearn-color-border-box);\n",
              "  border-radius: 0.25em;\n",
              "  box-sizing: border-box;\n",
              "  margin-bottom: 0.5em;\n",
              "  /* unfitted */\n",
              "  background-color: var(--sklearn-color-unfitted-level-0);\n",
              "}\n",
              "\n",
              "#sk-container-id-1 div.sk-estimator.fitted {\n",
              "  /* fitted */\n",
              "  background-color: var(--sklearn-color-fitted-level-0);\n",
              "}\n",
              "\n",
              "/* on hover */\n",
              "#sk-container-id-1 div.sk-estimator:hover {\n",
              "  /* unfitted */\n",
              "  background-color: var(--sklearn-color-unfitted-level-2);\n",
              "}\n",
              "\n",
              "#sk-container-id-1 div.sk-estimator.fitted:hover {\n",
              "  /* fitted */\n",
              "  background-color: var(--sklearn-color-fitted-level-2);\n",
              "}\n",
              "\n",
              "/* Specification for estimator info (e.g. \"i\" and \"?\") */\n",
              "\n",
              "/* Common style for \"i\" and \"?\" */\n",
              "\n",
              ".sk-estimator-doc-link,\n",
              "a:link.sk-estimator-doc-link,\n",
              "a:visited.sk-estimator-doc-link {\n",
              "  float: right;\n",
              "  font-size: smaller;\n",
              "  line-height: 1em;\n",
              "  font-family: monospace;\n",
              "  background-color: var(--sklearn-color-background);\n",
              "  border-radius: 1em;\n",
              "  height: 1em;\n",
              "  width: 1em;\n",
              "  text-decoration: none !important;\n",
              "  margin-left: 0.5em;\n",
              "  text-align: center;\n",
              "  /* unfitted */\n",
              "  border: var(--sklearn-color-unfitted-level-1) 1pt solid;\n",
              "  color: var(--sklearn-color-unfitted-level-1);\n",
              "}\n",
              "\n",
              ".sk-estimator-doc-link.fitted,\n",
              "a:link.sk-estimator-doc-link.fitted,\n",
              "a:visited.sk-estimator-doc-link.fitted {\n",
              "  /* fitted */\n",
              "  border: var(--sklearn-color-fitted-level-1) 1pt solid;\n",
              "  color: var(--sklearn-color-fitted-level-1);\n",
              "}\n",
              "\n",
              "/* On hover */\n",
              "div.sk-estimator:hover .sk-estimator-doc-link:hover,\n",
              ".sk-estimator-doc-link:hover,\n",
              "div.sk-label-container:hover .sk-estimator-doc-link:hover,\n",
              ".sk-estimator-doc-link:hover {\n",
              "  /* unfitted */\n",
              "  background-color: var(--sklearn-color-unfitted-level-3);\n",
              "  color: var(--sklearn-color-background);\n",
              "  text-decoration: none;\n",
              "}\n",
              "\n",
              "div.sk-estimator.fitted:hover .sk-estimator-doc-link.fitted:hover,\n",
              ".sk-estimator-doc-link.fitted:hover,\n",
              "div.sk-label-container:hover .sk-estimator-doc-link.fitted:hover,\n",
              ".sk-estimator-doc-link.fitted:hover {\n",
              "  /* fitted */\n",
              "  background-color: var(--sklearn-color-fitted-level-3);\n",
              "  color: var(--sklearn-color-background);\n",
              "  text-decoration: none;\n",
              "}\n",
              "\n",
              "/* Span, style for the box shown on hovering the info icon */\n",
              ".sk-estimator-doc-link span {\n",
              "  display: none;\n",
              "  z-index: 9999;\n",
              "  position: relative;\n",
              "  font-weight: normal;\n",
              "  right: .2ex;\n",
              "  padding: .5ex;\n",
              "  margin: .5ex;\n",
              "  width: min-content;\n",
              "  min-width: 20ex;\n",
              "  max-width: 50ex;\n",
              "  color: var(--sklearn-color-text);\n",
              "  box-shadow: 2pt 2pt 4pt #999;\n",
              "  /* unfitted */\n",
              "  background: var(--sklearn-color-unfitted-level-0);\n",
              "  border: .5pt solid var(--sklearn-color-unfitted-level-3);\n",
              "}\n",
              "\n",
              ".sk-estimator-doc-link.fitted span {\n",
              "  /* fitted */\n",
              "  background: var(--sklearn-color-fitted-level-0);\n",
              "  border: var(--sklearn-color-fitted-level-3);\n",
              "}\n",
              "\n",
              ".sk-estimator-doc-link:hover span {\n",
              "  display: block;\n",
              "}\n",
              "\n",
              "/* \"?\"-specific style due to the `<a>` HTML tag */\n",
              "\n",
              "#sk-container-id-1 a.estimator_doc_link {\n",
              "  float: right;\n",
              "  font-size: 1rem;\n",
              "  line-height: 1em;\n",
              "  font-family: monospace;\n",
              "  background-color: var(--sklearn-color-background);\n",
              "  border-radius: 1rem;\n",
              "  height: 1rem;\n",
              "  width: 1rem;\n",
              "  text-decoration: none;\n",
              "  /* unfitted */\n",
              "  color: var(--sklearn-color-unfitted-level-1);\n",
              "  border: var(--sklearn-color-unfitted-level-1) 1pt solid;\n",
              "}\n",
              "\n",
              "#sk-container-id-1 a.estimator_doc_link.fitted {\n",
              "  /* fitted */\n",
              "  border: var(--sklearn-color-fitted-level-1) 1pt solid;\n",
              "  color: var(--sklearn-color-fitted-level-1);\n",
              "}\n",
              "\n",
              "/* On hover */\n",
              "#sk-container-id-1 a.estimator_doc_link:hover {\n",
              "  /* unfitted */\n",
              "  background-color: var(--sklearn-color-unfitted-level-3);\n",
              "  color: var(--sklearn-color-background);\n",
              "  text-decoration: none;\n",
              "}\n",
              "\n",
              "#sk-container-id-1 a.estimator_doc_link.fitted:hover {\n",
              "  /* fitted */\n",
              "  background-color: var(--sklearn-color-fitted-level-3);\n",
              "}\n",
              "</style><div id=\"sk-container-id-1\" class=\"sk-top-container\"><div class=\"sk-text-repr-fallback\"><pre>LogisticRegression()</pre><b>In a Jupyter environment, please rerun this cell to show the HTML representation or trust the notebook. <br />On GitHub, the HTML representation is unable to render, please try loading this page with nbviewer.org.</b></div><div class=\"sk-container\" hidden><div class=\"sk-item\"><div class=\"sk-estimator fitted sk-toggleable\"><input class=\"sk-toggleable__control sk-hidden--visually\" id=\"sk-estimator-id-1\" type=\"checkbox\" checked><label for=\"sk-estimator-id-1\" class=\"sk-toggleable__label fitted sk-toggleable__label-arrow\"><div><div>LogisticRegression</div></div><div><a class=\"sk-estimator-doc-link fitted\" rel=\"noreferrer\" target=\"_blank\" href=\"https://scikit-learn.org/1.6/modules/generated/sklearn.linear_model.LogisticRegression.html\">?<span>Documentation for LogisticRegression</span></a><span class=\"sk-estimator-doc-link fitted\">i<span>Fitted</span></span></div></label><div class=\"sk-toggleable__content fitted\"><pre>LogisticRegression()</pre></div> </div></div></div></div>"
            ],
            "text/plain": [
              "LogisticRegression()"
            ]
          },
          "execution_count": 12,
          "metadata": {},
          "output_type": "execute_result"
        }
      ],
      "source": [
        "from sklearn.linear_model import LogisticRegression\n",
        "\n",
        "logreg = LogisticRegression()\n",
        "\n",
        "logreg.fit(Xtrain, ytrain)"
      ]
    },
    {
      "cell_type": "markdown",
      "metadata": {
        "id": "a5nWN5OV_eTO"
      },
      "source": [
        "Сделайте предсказания на тренировочных и на тестовых данных."
      ]
    },
    {
      "cell_type": "code",
      "execution_count": 13,
      "metadata": {
        "id": "QzR_npzTj5OC"
      },
      "outputs": [],
      "source": [
        "predict_train = logreg.predict(Xtrain)\n",
        "predict_test = logreg.predict(Xtest)"
      ]
    },
    {
      "cell_type": "markdown",
      "metadata": {
        "id": "ZFOiK8N5_oh_"
      },
      "source": [
        "Оцените значение accuracy на трейне и на тесте."
      ]
    },
    {
      "cell_type": "code",
      "execution_count": 14,
      "metadata": {
        "id": "H5wafqpe_tZI"
      },
      "outputs": [
        {
          "name": "stdout",
          "output_type": "stream",
          "text": [
            "0.6342857142857142 0.5766666666666667\n"
          ]
        }
      ],
      "source": [
        "from sklearn.metrics import accuracy_score\n",
        "\n",
        "train_score = accuracy_score(ytrain, predict_train)\n",
        "test_score = accuracy_score(ytest, predict_test)\n",
        "print(train_score, test_score)"
      ]
    },
    {
      "cell_type": "markdown",
      "metadata": {
        "id": "hapdxPhK_zvc"
      },
      "source": [
        "Качество модели получилось невысоким, зато модель не переобучена."
      ]
    },
    {
      "cell_type": "markdown",
      "metadata": {
        "id": "pEQfWP8h_4hm"
      },
      "source": [
        "Попробуем добавить новых признаков в модель, используя [PolynomialFeatures](https://scikit-learn.org/stable/modules/generated/sklearn.preprocessing.PolynomialFeatures.html).\n",
        "\n",
        "Создайте полиномиальные признаки degree = 2.\n",
        "\n",
        "Как обычно:\n",
        "*  `fit` делайте на тренировочных данных\n",
        "*  `transform` и на тренировочных, и на тестовых данных. Затем верните результат к формату pandas `dataframe`.\n",
        "\n",
        "Полученные матрицы назовите, как и раньше, `Xtrain` и `Xtest`."
      ]
    },
    {
      "cell_type": "code",
      "execution_count": 15,
      "metadata": {
        "id": "MzT-Tl5wANZk"
      },
      "outputs": [
        {
          "data": {
            "text/plain": [
              "36"
            ]
          },
          "execution_count": 15,
          "metadata": {},
          "output_type": "execute_result"
        }
      ],
      "source": [
        "from sklearn.preprocessing import PolynomialFeatures\n",
        "\n",
        "pf = PolynomialFeatures(degree=2)\n",
        "\n",
        "Xtrain = pf.fit_transform(Xtrain)\n",
        "Xtest = pf.transform(Xtest)\n",
        "\n",
        "Xtrain.shape[1] # на 29 пунктов"
      ]
    },
    {
      "cell_type": "markdown",
      "metadata": {
        "id": "ZzlQMf9LHPhE"
      },
      "source": [
        "**Вопрос:** на сколько признаков стало больше при добавлении полиномиальных признаков второй степени?"
      ]
    },
    {
      "cell_type": "markdown",
      "metadata": {
        "id": "CjGzWJQZA8hM"
      },
      "source": [
        "Заново обучите логистическую регрессию, уже на расширенной матрице признаков, и сделайте предсказания на трейне и тесте, а затем оцените качество (*accuracy*)."
      ]
    },
    {
      "cell_type": "code",
      "execution_count": 16,
      "metadata": {
        "id": "2-HDOPblBEGv"
      },
      "outputs": [
        {
          "name": "stdout",
          "output_type": "stream",
          "text": [
            "0.6857142857142857 0.6233333333333333\n"
          ]
        }
      ],
      "source": [
        "logreg= LogisticRegression()\n",
        "\n",
        "logreg.fit(Xtrain, ytrain)\n",
        "\n",
        "predict_train = logreg.predict(Xtrain)\n",
        "predict_test = logreg.predict(Xtest)\n",
        "\n",
        "train_score = accuracy_score(ytrain, predict_train)\n",
        "test_score = accuracy_score(ytest, predict_test)\n",
        "\n",
        "print(train_score, test_score)"
      ]
    },
    {
      "cell_type": "markdown",
      "metadata": {
        "id": "QwmRr1GjBSzj"
      },
      "source": [
        "**Вопрос:** на сколько повысилось качество модели на тестовых данных?  \n",
        "Ответ округлите до сотых."
      ]
    },
    {
      "cell_type": "markdown",
      "metadata": {
        "id": "N4zMaBDVBeNp"
      },
      "source": [
        "Появились новые требования от заказчика!\n",
        "\n",
        "Заказчик просит, чтобы:\n",
        "*  доля найденных моделью потенциальных покупателей была максимальной\n",
        "*  accuracy при этом была не ниже, чем 0.6 (отклонения *accuracy* на тестовых данных на $\\pm 0.05$ допустимы)."
      ]
    },
    {
      "cell_type": "markdown",
      "metadata": {
        "id": "wI0dQoHdFH84"
      },
      "source": [
        "Сначала посмотрите, какие значения *recall* и *accuracy* имеют предсказния модели на тесте с классами, предсказанными по умолчанию (методом `predict`)."
      ]
    },
    {
      "cell_type": "code",
      "execution_count": 17,
      "metadata": {
        "id": "IsnATTD1FQi7"
      },
      "outputs": [
        {
          "name": "stdout",
          "output_type": "stream",
          "text": [
            "0.6233333333333333 0.6959459459459459\n"
          ]
        }
      ],
      "source": [
        "from sklearn.metrics import recall_score, accuracy_score\n",
        "\n",
        "accuracy = accuracy_score(ytest, predict_test)\n",
        "recall = recall_score(ytest, predict_test)\n",
        "print(accuracy, recall)"
      ]
    },
    {
      "cell_type": "markdown",
      "metadata": {
        "id": "wJPY-nREFFo2"
      },
      "source": [
        "Подберём порог для перевода вероятностей в классы, чтобы оптимизировать требуемые метрики!\n",
        "\n",
        "Разобъем тренировочные данные на трейн и валидацию, чтобы по валидационной части подбирать порог."
      ]
    },
    {
      "cell_type": "code",
      "execution_count": 18,
      "metadata": {
        "id": "p5xH5iBcB4bp"
      },
      "outputs": [
        {
          "data": {
            "text/plain": [
              "((490, 36), (210, 36))"
            ]
          },
          "execution_count": 18,
          "metadata": {},
          "output_type": "execute_result"
        }
      ],
      "source": [
        "XtrainS, Xval, ytrainS, yval = train_test_split(Xtrain, ytrain, test_size=0.3, random_state=42)\n",
        "\n",
        "XtrainS.shape, Xval.shape"
      ]
    },
    {
      "cell_type": "markdown",
      "metadata": {
        "id": "Qlws70k8CZkb"
      },
      "source": [
        "* Обучите модель на тренировочных данных.\n",
        "* Предскажите вероятности положительного класса на валидационных данных\n",
        "\n",
        "В цикле для каждого значения порога:\n",
        "*  переведите вероятности в классы\n",
        "*  вычислите полноту (на валидационных данных)\n",
        "\n",
        "Выведите на экран:\n",
        "\n",
        "1) значение порога, дающее максимальный *recall*, при условии, что *accuracy* $\\geq$ 0.6.\n",
        "\n",
        "2) значение *recall* при этом пороге\n",
        "\n",
        "3) значение *accuracy* для этого порога\n",
        "\n",
        "\n",
        "Ищите порог на отрезке от 0 до 1 с шагом 0.01."
      ]
    },
    {
      "cell_type": "code",
      "execution_count": 55,
      "metadata": {
        "id": "uh-F1HvvB_74"
      },
      "outputs": [
        {
          "name": "stdout",
          "output_type": "stream",
          "text": [
            "0.42, 0.85, 0.61\n"
          ]
        },
        {
          "data": {
            "text/plain": [
              "[<matplotlib.lines.Line2D at 0x1b64b309f90>]"
            ]
          },
          "execution_count": 55,
          "metadata": {},
          "output_type": "execute_result"
        },
        {
          "data": {
            "image/png": "[encoded data removed]",
            "text/plain": [
              "<Figure size 640x480 with 1 Axes>"
            ]
          },
          "metadata": {},
          "output_type": "display_data"
        }
      ],
      "source": [
        "RecMax = -1\n",
        "BestThr = -1\n",
        "BestAcc = -1\n",
        "\n",
        "lr = LogisticRegression()\n",
        "lr.fit(XtrainS, ytrainS)\n",
        "\n",
        "pred_proba = lr.predict_proba(Xval)\n",
        "\n",
        "accuracy = []\n",
        "rec = []\n",
        "th = []\n",
        "\n",
        "for thr in np.arange(0, 1, 0.01):\n",
        "    classes = np.where(pred_proba[:,1]>=thr, 1, 0)\n",
        "\n",
        "    recall = recall_score(yval, classes)\n",
        "    acc = accuracy_score(yval, classes)\n",
        "\n",
        "    accuracy.append(acc)\n",
        "    rec.append(recall)\n",
        "    th.append(thr)\n",
        "\n",
        "    if recall > RecMax and acc >= 0.6:\n",
        "      RecMax = recall\n",
        "      BestThr = thr\n",
        "      BestAcc = acc\n",
        "\n",
        "print(f'{BestThr:.2f}, {RecMax:.2f}, {BestAcc:.2f}')\n",
        "\n",
        "plt.plot(th, accuracy, c='blue')\n",
        "plt.plot(th, rec, c='green')"
      ]
    },
    {
      "cell_type": "markdown",
      "metadata": {
        "id": "bV7RBPJRDsUG"
      },
      "source": [
        "Теперь заново обучите модель на исходных тренировочных данных (`Xtrain`, `ytrain`), предскажите вероятности на тесте и переведите их в классы по найденному порогу."
      ]
    },
    {
      "cell_type": "code",
      "execution_count": 56,
      "metadata": {
        "id": "g51hSqzxDrF7"
      },
      "outputs": [
        {
          "data": {
            "text/plain": [
              "0.8040540540540541"
            ]
          },
          "execution_count": 56,
          "metadata": {},
          "output_type": "execute_result"
        }
      ],
      "source": [
        "log_reg = LogisticRegression()\n",
        "\n",
        "log_reg.fit(Xtrain, ytrain)\n",
        "\n",
        "predictions = log_reg.predict_proba(Xtest)\n",
        "classes = np.where(predictions[:,1]>=BestThr, 1, 0)\n",
        "\n",
        "recall_score(ytest, classes)"
      ]
    },
    {
      "cell_type": "markdown",
      "metadata": {
        "id": "c8W-zTuUHaNl"
      },
      "source": [
        "**Вопрос:** какое значение *recall* получилось на тестовых данных после подбора порога?  \n",
        "Ответ округлите до десятых."
      ]
    },
    {
      "cell_type": "markdown",
      "metadata": {
        "id": "hnJuS9MxFxCh"
      },
      "source": [
        "При помощи подбора порога удалось сильно увеличить значение *recall*!  \n",
        "Однако, как видно, на тесте не удалось сохранить условие $accuracy \\geq 0.6$ (но в допустимые рамки уложились!)\n",
        "\n",
        "Это свидетельство небольшого переобучения модели. Однако в сухом остатке имеет значительное увеличение полноты, что является приоритетом для заказчика."
      ]
    }
  ],
  "metadata": {
    "colab": {
      "provenance": []
    },
    "kernelspec": {
      "display_name": "Python 3",
      "name": "python3"
    },
    "language_info": {
      "codemirror_mode": {
        "name": "ipython",
        "version": 3
      },
      "file_extension": ".py",
      "mimetype": "text/x-python",
      "name": "python",
      "nbconvert_exporter": "python",
      "pygments_lexer": "ipython3",
      "version": "3.13.1"
    }
  },
  "nbformat": 4,
  "nbformat_minor": 0
}
